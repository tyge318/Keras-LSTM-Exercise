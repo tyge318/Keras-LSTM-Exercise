{
 "cells": [
  {
   "cell_type": "code",
   "execution_count": 1,
   "metadata": {
    "collapsed": false,
    "deletable": true,
    "editable": true
   },
   "outputs": [
    {
     "name": "stderr",
     "output_type": "stream",
     "text": [
      "Using TensorFlow backend.\n"
     ]
    }
   ],
   "source": [
    "import sys\n",
    "import numpy as np\n",
    "from keras.models import Sequential\n",
    "from keras.layers import Dense\n",
    "from keras.layers import Dropout\n",
    "from keras.layers import LSTM\n",
    "from keras.callbacks import ModelCheckpoint\n",
    "from keras.utils import np_utils\n",
    "import nltk\n",
    "from nltk.tokenize import sent_tokenize\n",
    "from nltk import word_tokenize\n",
    "from keras.preprocessing.sequence import pad_sequences\n",
    "import pickle"
   ]
  },
  {
   "cell_type": "code",
   "execution_count": 2,
   "metadata": {
    "collapsed": false,
    "deletable": true,
    "editable": true
   },
   "outputs": [],
   "source": [
    "raw_texts = open(\"wonderland.txt\").read()\n",
    "raw_texts = raw_texts.strip().lower()\n",
    "\n",
    "sentences = list(map(lambda x: nltk.word_tokenize(x), sent_tokenize(raw_texts)))\n",
    "sentences = [['@']+sent+['#'] for sent in sentences]"
   ]
  },
  {
   "cell_type": "code",
   "execution_count": 3,
   "metadata": {
    "collapsed": false,
    "deletable": true,
    "editable": true
   },
   "outputs": [
    {
     "name": "stdout",
     "output_type": "stream",
     "text": [
      "Total number of words: 2846\n"
     ]
    }
   ],
   "source": [
    "words = [word for sentence in sentences for word in sentence]\n",
    "words = sorted(list(set(words)))\n",
    "word_to_index = {w: i+1 for i, w in enumerate(words)}\n",
    "index_to_word = {i+1: w for i, w in enumerate(words)}\n",
    "\n",
    "n_vocab = len(words)+1\n",
    "print('Total number of words:', n_vocab)\n",
    "with open('word_mappings.pickle', 'wb') as f:\n",
    "    pickle.dump([word_to_index, index_to_word], f, protocol=pickle.HIGHEST_PROTOCOL)"
   ]
  },
  {
   "cell_type": "code",
   "execution_count": 4,
   "metadata": {
    "collapsed": false,
    "deletable": true,
    "editable": true
   },
   "outputs": [
    {
     "name": "stdout",
     "output_type": "stream",
     "text": [
      "Total Patterns: 34936\n"
     ]
    }
   ],
   "source": [
    "sent_len = 10\n",
    "dataX, dataY = [], []\n",
    "for sent in sentences:\n",
    "    for i in range(1, len(sent)):\n",
    "        dataX.append([word_to_index[w] for w in sent[:i]])\n",
    "        dataY.append(word_to_index[sent[i]])\n",
    "dataX = pad_sequences(dataX, sent_len)\n",
    "n_patterns = len(dataX)\n",
    "print('Total Patterns:', n_patterns)"
   ]
  },
  {
   "cell_type": "code",
   "execution_count": 5,
   "metadata": {
    "collapsed": false,
    "deletable": true,
    "editable": true
   },
   "outputs": [],
   "source": [
    "X = np.reshape(dataX, (n_patterns, sent_len, 1))\n",
    "X = X/float(n_vocab)\n",
    "y = np_utils.to_categorical(dataY)"
   ]
  },
  {
   "cell_type": "code",
   "execution_count": 6,
   "metadata": {
    "collapsed": false,
    "deletable": true,
    "editable": true
   },
   "outputs": [
    {
     "name": "stdout",
     "output_type": "stream",
     "text": [
      "(34936, 2846)\n"
     ]
    }
   ],
   "source": [
    "# 2 layer stacked LSTM model\n",
    "model = Sequential()\n",
    "model.add(LSTM(1024, input_shape=(X.shape[1], X.shape[2]), return_sequences=True))\n",
    "model.add(Dropout(0.2))\n",
    "model.add(LSTM(1024))\n",
    "model.add(Dropout(0.2))\n",
    "model.add(Dense(y.shape[1], activation='softmax'))\n",
    "\n",
    "filename = \"weights-improvement-50-1.4122.hdf5\"\n",
    "model.load_weights(filename)\n",
    "model.compile(loss='categorical_crossentropy', optimizer='adam')\n",
    "\n",
    "print(y.shape)"
   ]
  },
  {
   "cell_type": "code",
   "execution_count": 20,
   "metadata": {
    "collapsed": false,
    "deletable": true,
    "editable": true
   },
   "outputs": [
    {
     "name": "stdout",
     "output_type": "stream",
     "text": [
      "Seed: a deep voice , 'are done with a whiting .\n",
      " the simple rules her turtle close . of the house before she in found the fan and gloves . these strange adventures of hers that you you name the shepherd , the could the the cauldron and sitting ran of , and 'get when name to , a tomorrow know signifies the to eye any 'fetch ! ' , minute or two i could shut ; and was dormouse back to a all really . that her head ! best , for this must ever be a secret , kept from all the rest , between yourself and me . ' of the house , and found quite a crowd of little animals and birds waiting outside . the mouse , who a bound ! put more simply -- '' never imagine yourself not to be otherwise than what , ' been changed for mabel ! alice quite hungry to look at them -- 'i wish they 'd get the trial done , ' she thought , 'and hand round the refreshments ! ' a caterpillar the caterpillar and alice looked at each other for some time , mad people , ' alice remarked . , ' the alice , 'only , as it 's asleep , i suppose it does n't mind . ' the whole place around her became alive with the strange creatures of her little sister 's dream . , i made wish i could shut ; and was dormouse followed nothing , sky-rocket ! ' bill , ' she gave one sharp kick , and waited to see be but with in become to of that : so before she , in , ' , as he shook his grey locks , 'i kept all my limbs very supple by the use of this ointment , one shilling the box -- allow me to sell you to find , and her would back of the flapper : and she despair it hastily that the , ' dogs . ' all ready ? -- '' oh , 't is love , 'tis love , that makes the world go round ? '' ' the whiting , ' said alice , whose thoughts were still running on her voice direction nor the , sleepy , stupid time , sat at furrows ; while of , as a 's first , ' she said , 'and see whether it 's marked `` poison '' or not ' ; for she had read several nice little histories about children who was were fan to happen a , and looked into its eyes again , to see if there were any tears . at the caterpillar 's making such very short remarks , and she drew herself up and said , very gravely , 'i think , you ought to tell me who , ' -- so you can have no idea what , delightful thing a lobster quadrille is ! ' , cook took the cauldron of soup off the fire , and rather was quite people to find , you would seem to , '' said the , added , to herself , 'why , they 're only a pack of cards , after all . 'i do n't see how he can even finish , if he does n't begin . ' pocket , and was looking at it uneasily , shaking it every now and then , and holding it to his ear . she could , , it said wo water could , and condemn you to death . '' ' trees , ' i , and behind them a railway station . ) eye ; 'i seem to see some meaning in them , after all. `` , repeat something , and thought were herself that perhaps and her , and the could was added when she looked down , was an immense length of neck , which seemed to rise like a stalk of of a sea of green leaves that lay far below her . ' said alice , who felt very glad to get an opportunity of showing the , and thinking pool puppy -- and all told to hookah , seemed a better , going to be , from one minute to another ! ? ' you are a simpleton . ' they would n't the , and , as there doubled-up soldiers were always getting up and walking off to other parts of the ground , alice soon came to the conclusion that of was ! very difficult game . ' just missed her . with the duchess , it had entirely disappeared ; so the king of the house , and found quite a crowd of little animals and birds waiting outside . the others . . ) , ' 'two lines ! ' 's hardly enough of me left to make one respectable person ! ' and alice looked at each other for some time , n't signify to , and the twinkling ones choked , and away of by the to of ; is heard , was same size it axis feet , patiently planning the court , with a whiting . said the king in a very grave voice , 'until all the jurymen are back in their proper places -- all , ' he repeated with great emphasis , looking hard at alice as he said do . their slates and pencils had been found and handed back to them , they set to work on on the country , . she ran across the field after it , and fortunately was\n",
      "Done.\n"
     ]
    }
   ],
   "source": [
    "# pick a random seed\n",
    "if type(dataX) != list:\n",
    "    dataX = dataX.tolist()\n",
    "start = np.random.randint(0, len(dataX)-1)\n",
    "pattern = dataX[start]\n",
    "print(\"Seed:\",' '.join([index_to_word.get(value, '') for value in pattern]))\n",
    "# generate characters\n",
    "for i in range(1000):\n",
    "    x = np.reshape(pattern, (1, len(pattern), 1))\n",
    "    x = x / float(n_vocab)\n",
    "    prediction = model.predict(x, verbose=0)\n",
    "    index = np.argmax(prediction)\n",
    "    result = index_to_word[index]\n",
    "    if result == '#':\n",
    "        start = np.random.randint(0, len(dataX)-1)\n",
    "        pattern = dataX[start]\n",
    "        continue\n",
    "    sys.stdout.write(' '+result)\n",
    "    pattern.append(index)\n",
    "    pattern = pattern[1:]\n",
    "print(\"\\nDone.\")"
   ]
  },
  {
   "cell_type": "code",
   "execution_count": null,
   "metadata": {
    "collapsed": true
   },
   "outputs": [],
   "source": []
  }
 ],
 "metadata": {
  "kernelspec": {
   "display_name": "Python 3",
   "language": "python",
   "name": "python3"
  },
  "language_info": {
   "codemirror_mode": {
    "name": "ipython",
    "version": 3
   },
   "file_extension": ".py",
   "mimetype": "text/x-python",
   "name": "python",
   "nbconvert_exporter": "python",
   "pygments_lexer": "ipython3",
   "version": "3.4.3"
  }
 },
 "nbformat": 4,
 "nbformat_minor": 2
}
