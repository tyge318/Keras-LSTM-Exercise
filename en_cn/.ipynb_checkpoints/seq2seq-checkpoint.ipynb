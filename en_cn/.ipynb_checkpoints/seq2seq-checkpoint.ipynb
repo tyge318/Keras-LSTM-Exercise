{
 "cells": [
  {
   "cell_type": "code",
   "execution_count": 1,
   "metadata": {
    "collapsed": false,
    "deletable": true,
    "editable": true
   },
   "outputs": [
    {
     "name": "stderr",
     "output_type": "stream",
     "text": [
      "Using TensorFlow backend.\n"
     ]
    }
   ],
   "source": [
    "from keras.models import Model\n",
    "from keras.preprocessing.sequence import pad_sequences\n",
    "from keras.models import Sequential\n",
    "from keras.layers import Input, LSTM, Dense\n",
    "from keras.layers.embeddings import Embedding\n",
    "import numpy as np\n",
    "import jieba\n",
    "import re"
   ]
  },
  {
   "cell_type": "code",
   "execution_count": 2,
   "metadata": {
    "collapsed": true,
    "deletable": true,
    "editable": true
   },
   "outputs": [],
   "source": [
    "batch_size = 64\n",
    "epochs = 100\n",
    "latent_dim = 256\n",
    "num_samples = 10000"
   ]
  },
  {
   "cell_type": "markdown",
   "metadata": {
    "deletable": true,
    "editable": true
   },
   "source": [
    "## Loading data"
   ]
  },
  {
   "cell_type": "code",
   "execution_count": 3,
   "metadata": {
    "collapsed": false,
    "deletable": true,
    "editable": true
   },
   "outputs": [
    {
     "name": "stderr",
     "output_type": "stream",
     "text": [
      "Building prefix dict from the default dictionary ...\n",
      "Loading model from cache /tmp/jieba.cache\n",
      "Loading model cost 1.154 seconds.\n",
      "Prefix dict has been built succesfully.\n"
     ]
    }
   ],
   "source": [
    "input_texts, output_texts = [], []\n",
    "en_vocs, cn_vocs = set(), set()\n",
    "pattern = re.compile('[\\W_]+')\n",
    "with open('cmn.txt', 'r') as f:\n",
    "    cnt = 0\n",
    "    for line in f:\n",
    "        # source and target are seperated by tab; also lower the letters\n",
    "        input_text, output_text = line.lower().split('\\t')\n",
    "        # remove English punctuations\n",
    "        en_words = list(map(lambda x: pattern.sub('', x), input_text.split()))\n",
    "        en_vocs.update(en_words)\n",
    "        # remove Chinese punctuations\n",
    "        output_text = re.sub( \"[\\s+\\.\\!\\/_,$%^*(+\\\"\\']+|[+——！，。?？、~@#￥%……&*（ ）]+\", '',output_text)  \n",
    "        cn_tokens = ['\\t']+list(jieba.cut(output_text))+['\\n']\n",
    "        cn_vocs.update(cn_tokens)\n",
    "        input_texts.append(en_words)\n",
    "        output_texts.append(cn_tokens)\n",
    "        cnt += 1\n",
    "        if cnt >= num_samples:\n",
    "            break\n"
   ]
  },
  {
   "cell_type": "markdown",
   "metadata": {
    "deletable": true,
    "editable": true
   },
   "source": [
    "## Generate word-int mapping"
   ]
  },
  {
   "cell_type": "code",
   "execution_count": 4,
   "metadata": {
    "collapsed": false,
    "deletable": true,
    "editable": true
   },
   "outputs": [
    {
     "name": "stdout",
     "output_type": "stream",
     "text": [
      "Number of samples: 10000\n",
      "Number of unique input tokens: 3597\n",
      "Number of unique output tokens: 7071\n",
      "Max sequence length for inputs: 9\n",
      "Max sequence length for outputs: 14\n"
     ]
    }
   ],
   "source": [
    "en_vocs = sorted(list(en_vocs))\n",
    "cn_vocs = sorted(list(cn_vocs))\n",
    "en_to_int, int_to_en = {w: i+1 for i, w in enumerate(en_vocs)}, {i: w for i, w in enumerate(en_vocs)}\n",
    "cn_to_int, int_to_cn = {w: i+1 for i, w in enumerate(cn_vocs)}, {i: w for i, w in enumerate(cn_vocs)}\n",
    "\n",
    "num_encoder_tokens = len(en_vocs)\n",
    "num_decoder_tokens = len(cn_vocs)\n",
    "max_encoder_seq_length = max(map(len, input_texts))\n",
    "max_decoder_seq_length = max(map(len, output_texts))\n",
    "\n",
    "print('Number of samples:', len(input_texts))\n",
    "print('Number of unique input tokens:', num_encoder_tokens)\n",
    "print('Number of unique output tokens:', num_decoder_tokens)\n",
    "print('Max sequence length for inputs:', max_encoder_seq_length)\n",
    "print('Max sequence length for outputs:', max_decoder_seq_length)"
   ]
  },
  {
   "cell_type": "markdown",
   "metadata": {
    "deletable": true,
    "editable": true
   },
   "source": [
    "## Vectorization and Padding"
   ]
  },
  {
   "cell_type": "code",
   "execution_count": null,
   "metadata": {
    "collapsed": false,
    "deletable": true,
    "editable": true
   },
   "outputs": [],
   "source": [
    "int_input_data = [[en_to_int[w] for w in row] for row in input_texts]\n",
    "int_output_data = [[cn_to_int[w] for w in row] for row in output_texts]\n",
    "encoder_input_data = pad_sequences(int_input_data, maxlen=max_encoder_seq_length, padding='post')\n",
    "decoder_input_data = pad_sequences(int_output_data, maxlen=max_decoder_seq_length, padding='post')\n",
    "#decoder_target_data = pad_sequences(decoder_input_data[:,1:], maxlen=max_decoder_seq_length, padding='post')\n",
    "\n",
    "#decoder_target_data needs to be one-hot encoded\n",
    "decoder_target_data = np.zeros((len(input_texts), max_decoder_seq_length, num_decoder_tokens), dtype='float32')\n",
    "\n",
    "for i, row in enumerate(int_output_data):\n",
    "    for t, w in enumerate(row):\n",
    "        if t == 0:\n",
    "            continue\n",
    "        decoder_target_data[i, t-1, w] = 1\n",
    "#print(decoder_target_data.shape)\n",
    "\n",
    "print()"
   ]
  },
  {
   "cell_type": "markdown",
   "metadata": {
    "deletable": true,
    "editable": true
   },
   "source": [
    "## Define the model"
   ]
  },
  {
   "cell_type": "code",
   "execution_count": null,
   "metadata": {
    "collapsed": false,
    "deletable": true,
    "editable": true
   },
   "outputs": [],
   "source": [
    "# Define the input sequence\n",
    "encoder_inputs = Input(shape=(None,))\n",
    "_, state_h, state_c = LSTM(latent_dim, return_state=True)(Embedding(num_encoder_tokens, latent_dim)(encoder_inputs))\n",
    "encoder_states = [state_h, state_c]\n",
    "\n",
    "# Set up the decoder and use encoder_states as initial state\n",
    "decoder_inputs = Input(shape=(None,))\n",
    "y = Embedding(num_decoder_tokens, latent_dim)(decoder_inputs)\n",
    "x = LSTM(latent_dim, return_sequences=True)(y, initial_state=encoder_states)\n",
    "decoder_outputs = Dense(num_decoder_tokens, activation='softmax')(x)\n",
    "\n",
    "model = Model([encoder_inputs, decoder_inputs], decoder_outputs)\n",
    "model.compile(optimizer='rmsprop', loss='categorical_crossentropy')\n",
    "model.fit([encoder_input_data, decoder_input_data], decoder_target_data,\n",
    "          batch_size=batch_size, epochs=epochs,validation_split=0.2)\n",
    "\n",
    "#model.save('s2s.h5')"
   ]
  },
  {
   "cell_type": "code",
   "execution_count": null,
   "metadata": {
    "collapsed": true,
    "deletable": true,
    "editable": true
   },
   "outputs": [],
   "source": []
  }
 ],
 "metadata": {
  "kernelspec": {
   "display_name": "Python 3",
   "language": "python",
   "name": "python3"
  },
  "language_info": {
   "codemirror_mode": {
    "name": "ipython",
    "version": 3
   },
   "file_extension": ".py",
   "mimetype": "text/x-python",
   "name": "python",
   "nbconvert_exporter": "python",
   "pygments_lexer": "ipython3",
   "version": "3.4.3"
  }
 },
 "nbformat": 4,
 "nbformat_minor": 2
}
